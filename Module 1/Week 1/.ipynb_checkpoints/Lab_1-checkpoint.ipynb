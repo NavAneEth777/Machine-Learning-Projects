{
 "cells": [
  {
   "cell_type": "markdown",
   "id": "366df5c5",
   "metadata": {},
   "source": [
    "# Optional Lab: Brief Introduction to Python and Jupyter Notebooks\n",
    "Welcome to the first optional lab! Optional labs are available to:\n",
    "- provide information - like this notebook\n",
    "- reinforce lecture material with hands-on examples\n",
    "- provide working examples of routines used in the graded labs"
   ]
  },
  {
   "cell_type": "markdown",
   "id": "fe54db4f",
   "metadata": {},
   "source": [
    "<figure>\n",
    "    <center><img src=\"https://mir-s3-cdn-cf.behance.net/project_modules/disp/5f23ec68199553.5b54ecdb3da08.jpg\" alt=\"missing\" width=\"200\"></center>\n",
    "</figure>"
   ]
  },
  {
   "cell_type": "markdown",
   "id": "f117d61d",
   "metadata": {},
   "source": [
    "Hi, this is `navaneeth`"
   ]
  },
  {
   "cell_type": "code",
   "execution_count": 13,
   "id": "2aa79d95",
   "metadata": {},
   "outputs": [],
   "source": [
    "import numpy as np"
   ]
  },
  {
   "cell_type": "code",
   "execution_count": 11,
   "id": "71a88f31",
   "metadata": {},
   "outputs": [
    {
     "name": "stdout",
     "output_type": "stream",
     "text": [
      "[[ 4 10 18]]\n"
     ]
    }
   ],
   "source": [
    "A = np.array([[1,2,3]])\n",
    "B = np.array([[4,5,6]])\n",
    "ans = A * B\n",
    "print(ans)"
   ]
  },
  {
   "cell_type": "code",
   "execution_count": null,
   "id": "9d5a918c",
   "metadata": {},
   "outputs": [],
   "source": []
  }
 ],
 "metadata": {
  "kernelspec": {
   "display_name": "Python 3 (ipykernel)",
   "language": "python",
   "name": "python3"
  },
  "language_info": {
   "codemirror_mode": {
    "name": "ipython",
    "version": 3
   },
   "file_extension": ".py",
   "mimetype": "text/x-python",
   "name": "python",
   "nbconvert_exporter": "python",
   "pygments_lexer": "ipython3",
   "version": "3.11.3"
  }
 },
 "nbformat": 4,
 "nbformat_minor": 5
}
